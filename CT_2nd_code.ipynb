{
  "nbformat": 4,
  "nbformat_minor": 0,
  "metadata": {
    "colab": {
      "provenance": [],
      "authorship_tag": "ABX9TyM9S4Z+GxwGEYTOiI1DKkrT",
      "include_colab_link": true
    },
    "kernelspec": {
      "name": "python3",
      "display_name": "Python 3"
    },
    "language_info": {
      "name": "python"
    }
  },
  "cells": [
    {
      "cell_type": "markdown",
      "metadata": {
        "id": "view-in-github",
        "colab_type": "text"
      },
      "source": [
        "<a href=\"https://colab.research.google.com/github/LeeGa-ye/qw82q/blob/main/CT_2nd_code.ipynb\" target=\"_parent\"><img src=\"https://colab.research.google.com/assets/colab-badge.svg\" alt=\"Open In Colab\"/></a>"
      ]
    },
    {
      "cell_type": "markdown",
      "source": [
        "2. 사용자로부터 3개의 변수를 입력받아서 합을 구하고, 평균을 구하는 코드\n",
        "-   변수는: n1, n2, n3, total, average\n"
      ],
      "metadata": {
        "id": "s0PDn_uqlSCQ"
      }
    },
    {
      "cell_type": "code",
      "source": [
        "n1=int(input(\"n1의 값을 입력하시오:\"))           # n1 값을 입력받음\n",
        "n2=int(input(\"n2의 값을 입력하시오:\"))           # n2 값을 입력받음\n",
        "n3=int(input(\"n3의 값을 입력하시오:\"))           # n3 값을 입력받음\n",
        "total=n1+n2+n3                                   # 입력받은 세 개의 값의 합을 계산하여 total 변수에 저장\n",
        "print('합계는:',total)                           # 합계를 출력\n",
        "average=total/3                                  # 합계를 3으로 나누어 평균을 계산하여 average 변수에 저장\n",
        "print('평균은:',average)                         # 평균을 출력"
      ],
      "metadata": {
        "colab": {
          "base_uri": "https://localhost:8080/"
        },
        "id": "h56aZAZWlpyZ",
        "outputId": "32221c0d-f96d-41fa-b3e0-6aae42729daf"
      },
      "execution_count": null,
      "outputs": [
        {
          "output_type": "stream",
          "name": "stdout",
          "text": [
            "n1의 값을 입력하시오:50\n",
            "n2의 값을 입력하시오:60\n",
            "n3의 값을 입력하시오:70\n",
            "합계는: 180\n",
            "평균은: 60.0\n"
          ]
        }
      ]
    },
    {
      "cell_type": "markdown",
      "source": [
        "n1 = int(input(\"n1의 값을 입력하시오:\"))는 사용자로부터 n1 값을 입력받아 정수형으로 변환하여 n1 변수에 저장하는 코드입니다. input() 함수를 사용하여 사용자로부터 입력을 받고, int() 함수를 사용하여 입력된 값을 정수로 변환합니다.\n",
        "n2 = int(input(\"n2의 값을 입력하시오:\"))는 사용자로부터 n2 값을 입력받아 정수형으로 변환하여 n2 변수에 저장하는 코드입니다. input() 함수를 사용하여 사용자로부터 입력을 받고, int() 함수를 사용하여 입력된 값을 정수로 변환합니다.\n",
        "n3 = int(input(\"n3의 값을 입력하시오:\"))는 사용자로부터 n3 값을 입력받아 정수형으로 변환하여 n3 변수에 저장하는 코드입니다. input() 함수를 사용하여 사용자로부터 입력을 받고, int() 함수를 사용하여 입력된 값을 정수로 변환합니다.\n",
        "total = n1 + n2 + n3는 입력받은 세 개의 값의 합을 계산하여 total 변수에 저장하는 코드입니다.\n",
        "print('합계는:', total)는 계산된 합계를 출력하는 코드입니다.\n",
        "average = total / 3는 합계를 3으로 나누어 평균을 계산하여 average 변수에 저장하는 코드입니다.\n",
        "print('평균은:', average)는 계산된 평균을 출력하는 코드입니다.\n",
        "위의 코드는 사용자로부터 입력받은 세 개의 값을 합산하여 합계와 평균을 계산하고 출력하는 예제입니다. 입력된 값을 각각 n1, n2, n3 변수에 저장한 후, 세 개의 값을 합산하여 total 변수에 저장합니다. 합계와 평균을 계산한 후 출력합니다"
      ],
      "metadata": {
        "id": "D7XrqlPZmWYP"
      }
    }
  ]
}