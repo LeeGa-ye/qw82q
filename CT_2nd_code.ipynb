{
  "nbformat": 4,
  "nbformat_minor": 0,
  "metadata": {
    "colab": {
      "provenance": [],
      "authorship_tag": "ABX9TyP8MPmNyuz89g+Vtgl6T11a",
      "include_colab_link": true
    },
    "kernelspec": {
      "name": "python3",
      "display_name": "Python 3"
    },
    "language_info": {
      "name": "python"
    }
  },
  "cells": [
    {
      "cell_type": "markdown",
      "metadata": {
        "id": "view-in-github",
        "colab_type": "text"
      },
      "source": [
        "<a href=\"https://colab.research.google.com/github/LeeGa-ye/qw82q/blob/main/CT_2nd_code.ipynb\" target=\"_parent\"><img src=\"https://colab.research.google.com/assets/colab-badge.svg\" alt=\"Open In Colab\"/></a>"
      ]
    },
    {
      "cell_type": "markdown",
      "source": [
        "2. 사용자로부터 3개의 변수를 입력받아서 합을 구하고, 평균을 구하는 코드\n",
        "-   변수는: n1, n2, n3, total, average\n"
      ],
      "metadata": {
        "id": "s0PDn_uqlSCQ"
      }
    },
    {
      "cell_type": "code",
      "source": [
        "n1=int(input(\"n1의 값을 입력하시오:\"))\n",
        "n2=int(input(\"n2의 값을 입력하시오:\"))\n",
        "n3=int(input(\"n3의 값을 입력하시오:\"))\n",
        "total=n1+n2+n3\n",
        "print('합계는:',total)\n",
        "average=total/3\n",
        "print('평균은:',average)"
      ],
      "metadata": {
        "colab": {
          "base_uri": "https://localhost:8080/"
        },
        "id": "h56aZAZWlpyZ",
        "outputId": "32221c0d-f96d-41fa-b3e0-6aae42729daf"
      },
      "execution_count": null,
      "outputs": [
        {
          "output_type": "stream",
          "name": "stdout",
          "text": [
            "n1의 값을 입력하시오:50\n",
            "n2의 값을 입력하시오:60\n",
            "n3의 값을 입력하시오:70\n",
            "합계는: 180\n",
            "평균은: 60.0\n"
          ]
        }
      ]
    },
    {
      "cell_type": "markdown",
      "source": [],
      "metadata": {
        "id": "D7XrqlPZmWYP"
      }
    }
  ]
}